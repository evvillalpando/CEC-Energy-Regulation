{
 "cells": [
  {
   "cell_type": "markdown",
   "id": "00ce38b6",
   "metadata": {},
   "source": [
    "Eduardo Vasquez-Villalpando\n",
    "Updated dataset can always be acquired via https://cacertappliances.energy.ca.gov/Pages/ApplianceSearch.aspx"
   ]
  },
  {
   "cell_type": "code",
   "execution_count": 1,
   "id": "241dbaa1",
   "metadata": {},
   "outputs": [],
   "source": [
    "import pandas as pd\n",
    "import numpy as np\n",
    "import imblearn\n",
    "import seaborn as sns\n",
    "import matplotlib.pyplot as plt\n",
    "from sklearn.ensemble import RandomForestRegressor\n",
    "from sklearn.ensemble import GradientBoostingRegressor\n",
    "from sklearn.ensemble import StackingRegressor\n",
    "# pd.set_option(\"display.max_columns\", None)\n",
    "# pd.set_option(\"display.max_rows\", None)"
   ]
  },
  {
   "cell_type": "markdown",
   "id": "2f37b5dc",
   "metadata": {},
   "source": [
    "# Importing full data, dropping duplicates"
   ]
  },
  {
   "cell_type": "code",
   "execution_count": 108,
   "id": "e2d9af6e",
   "metadata": {},
   "outputs": [],
   "source": [
    "df = pd.read_csv('full_data.csv')\n",
    "df = df[df['Computer Type'] == 'High Expandability Computer']\n",
    "df = df[[\n",
    "    'Number of CPU Cores', 'Core Speed (gigahertz)', \\\n",
    "    'Expandability Score', \\\n",
    "    'Number of 3.5\" hard-disk drives and Others (other than main storage)', \\\n",
    "    'Number of solid-state drives (other than main storage)', \\\n",
    "    'First Discrete GPU Frame Buffer Bandwidth (rounded to nearest gigabyte per second)', \\\n",
    "    'Total Number of System Memory Channels Used', \\\n",
    "    'First channel system memory (gigabytes)', \\\n",
    "    'First channel system memory bandwidth (gigabytes/second)', \\\n",
    "    'Motherboard model number', \\\n",
    "    'Power supply model number', \\\n",
    "    'Internal power supply size (watts)', \\\n",
    "    'Short-idle power (watts)',\n",
    "'Total Annual Energy Consumption (kilowatt hours per year)']]\n",
    "df['Motherboard model number'] = df['Motherboard model number'].str.upper()\n",
    "df['Power supply model number'] = df['Power supply model number'].str.upper()\n",
    "df.drop_duplicates(inplace = True)"
   ]
  },
  {
   "cell_type": "code",
   "execution_count": 7,
   "id": "55d8b239",
   "metadata": {},
   "outputs": [
    {
     "name": "stdout",
     "output_type": "stream",
     "text": [
      "<class 'pandas.core.frame.DataFrame'>\n",
      "Int64Index: 1862 entries, 0 to 8171\n",
      "Data columns (total 13 columns):\n",
      " #   Column                                                                              Non-Null Count  Dtype  \n",
      "---  ------                                                                              --------------  -----  \n",
      " 0   Number of CPU Cores                                                                 1862 non-null   float64\n",
      " 1   Core Speed (gigahertz)                                                              1862 non-null   float64\n",
      " 2   Expandability Score                                                                 1862 non-null   float64\n",
      " 3   Number of 3.5\" hard-disk drives and Others (other than main storage)                1862 non-null   float64\n",
      " 4   Number of solid-state drives (other than main storage)                              1862 non-null   float64\n",
      " 5   First Discrete GPU Frame Buffer Bandwidth (rounded to nearest gigabyte per second)  1862 non-null   float64\n",
      " 6   Total Number of System Memory Channels Used                                         1862 non-null   float64\n",
      " 7   First channel system memory (gigabytes)                                             1862 non-null   float64\n",
      " 8   First channel system memory bandwidth (gigabytes/second)                            1862 non-null   float64\n",
      " 9   Motherboard model number                                                            1862 non-null   object \n",
      " 10  Power supply model number                                                           1862 non-null   object \n",
      " 11  Internal power supply size (watts)                                                  1862 non-null   float64\n",
      " 12  Short-idle power (watts)                                                            1862 non-null   float64\n",
      "dtypes: float64(11), object(2)\n",
      "memory usage: 203.7+ KB\n",
      "None\n"
     ]
    }
   ],
   "source": [
    "print(df.info())"
   ]
  },
  {
   "cell_type": "code",
   "execution_count": 8,
   "id": "7eca7e4f",
   "metadata": {},
   "outputs": [
    {
     "data": {
      "text/html": [
       "<div>\n",
       "<style scoped>\n",
       "    .dataframe tbody tr th:only-of-type {\n",
       "        vertical-align: middle;\n",
       "    }\n",
       "\n",
       "    .dataframe tbody tr th {\n",
       "        vertical-align: top;\n",
       "    }\n",
       "\n",
       "    .dataframe thead th {\n",
       "        text-align: right;\n",
       "    }\n",
       "</style>\n",
       "<table border=\"1\" class=\"dataframe\">\n",
       "  <thead>\n",
       "    <tr style=\"text-align: right;\">\n",
       "      <th></th>\n",
       "      <th>Number of CPU Cores</th>\n",
       "      <th>Core Speed (gigahertz)</th>\n",
       "      <th>Expandability Score</th>\n",
       "      <th>Number of 3.5\" hard-disk drives and Others (other than main storage)</th>\n",
       "      <th>Number of solid-state drives (other than main storage)</th>\n",
       "      <th>First Discrete GPU Frame Buffer Bandwidth (rounded to nearest gigabyte per second)</th>\n",
       "      <th>Total Number of System Memory Channels Used</th>\n",
       "      <th>First channel system memory (gigabytes)</th>\n",
       "      <th>First channel system memory bandwidth (gigabytes/second)</th>\n",
       "      <th>Internal power supply size (watts)</th>\n",
       "      <th>Short-idle power (watts)</th>\n",
       "    </tr>\n",
       "  </thead>\n",
       "  <tbody>\n",
       "    <tr>\n",
       "      <th>count</th>\n",
       "      <td>1862.000000</td>\n",
       "      <td>1862.000000</td>\n",
       "      <td>1862.000000</td>\n",
       "      <td>1862.000000</td>\n",
       "      <td>1862.000000</td>\n",
       "      <td>1862.000000</td>\n",
       "      <td>1862.000000</td>\n",
       "      <td>1862.000000</td>\n",
       "      <td>1862.000000</td>\n",
       "      <td>1862.000000</td>\n",
       "      <td>1862.000000</td>\n",
       "    </tr>\n",
       "    <tr>\n",
       "      <th>mean</th>\n",
       "      <td>11.524168</td>\n",
       "      <td>3.482057</td>\n",
       "      <td>740.080559</td>\n",
       "      <td>0.052095</td>\n",
       "      <td>0.869495</td>\n",
       "      <td>566.408324</td>\n",
       "      <td>2.023093</td>\n",
       "      <td>8.867884</td>\n",
       "      <td>29.971660</td>\n",
       "      <td>778.088077</td>\n",
       "      <td>54.936332</td>\n",
       "    </tr>\n",
       "    <tr>\n",
       "      <th>std</th>\n",
       "      <td>4.116937</td>\n",
       "      <td>0.187673</td>\n",
       "      <td>53.878273</td>\n",
       "      <td>0.229415</td>\n",
       "      <td>0.358580</td>\n",
       "      <td>161.042076</td>\n",
       "      <td>0.276237</td>\n",
       "      <td>3.881472</td>\n",
       "      <td>20.301389</td>\n",
       "      <td>131.121713</td>\n",
       "      <td>13.640193</td>\n",
       "    </tr>\n",
       "    <tr>\n",
       "      <th>min</th>\n",
       "      <td>4.000000</td>\n",
       "      <td>2.500000</td>\n",
       "      <td>385.000000</td>\n",
       "      <td>0.000000</td>\n",
       "      <td>0.000000</td>\n",
       "      <td>48.000000</td>\n",
       "      <td>1.000000</td>\n",
       "      <td>8.000000</td>\n",
       "      <td>16.000000</td>\n",
       "      <td>500.000000</td>\n",
       "      <td>32.200000</td>\n",
       "    </tr>\n",
       "    <tr>\n",
       "      <th>25%</th>\n",
       "      <td>8.000000</td>\n",
       "      <td>3.400000</td>\n",
       "      <td>710.000000</td>\n",
       "      <td>0.000000</td>\n",
       "      <td>1.000000</td>\n",
       "      <td>512.000000</td>\n",
       "      <td>2.000000</td>\n",
       "      <td>8.000000</td>\n",
       "      <td>28.800000</td>\n",
       "      <td>650.000000</td>\n",
       "      <td>45.442500</td>\n",
       "    </tr>\n",
       "    <tr>\n",
       "      <th>50%</th>\n",
       "      <td>10.000000</td>\n",
       "      <td>3.500000</td>\n",
       "      <td>745.000000</td>\n",
       "      <td>0.000000</td>\n",
       "      <td>1.000000</td>\n",
       "      <td>512.000000</td>\n",
       "      <td>2.000000</td>\n",
       "      <td>8.000000</td>\n",
       "      <td>28.800000</td>\n",
       "      <td>750.000000</td>\n",
       "      <td>52.745000</td>\n",
       "    </tr>\n",
       "    <tr>\n",
       "      <th>75%</th>\n",
       "      <td>16.000000</td>\n",
       "      <td>3.500000</td>\n",
       "      <td>760.000000</td>\n",
       "      <td>0.000000</td>\n",
       "      <td>1.000000</td>\n",
       "      <td>512.000000</td>\n",
       "      <td>2.000000</td>\n",
       "      <td>8.000000</td>\n",
       "      <td>28.800000</td>\n",
       "      <td>850.000000</td>\n",
       "      <td>62.260000</td>\n",
       "    </tr>\n",
       "    <tr>\n",
       "      <th>max</th>\n",
       "      <td>32.000000</td>\n",
       "      <td>5.200000</td>\n",
       "      <td>960.000000</td>\n",
       "      <td>2.000000</td>\n",
       "      <td>3.000000</td>\n",
       "      <td>936.200000</td>\n",
       "      <td>4.000000</td>\n",
       "      <td>64.000000</td>\n",
       "      <td>519.200000</td>\n",
       "      <td>1600.000000</td>\n",
       "      <td>175.000000</td>\n",
       "    </tr>\n",
       "  </tbody>\n",
       "</table>\n",
       "</div>"
      ],
      "text/plain": [
       "       Number of CPU Cores  Core Speed (gigahertz)  Expandability Score  \\\n",
       "count          1862.000000             1862.000000          1862.000000   \n",
       "mean             11.524168                3.482057           740.080559   \n",
       "std               4.116937                0.187673            53.878273   \n",
       "min               4.000000                2.500000           385.000000   \n",
       "25%               8.000000                3.400000           710.000000   \n",
       "50%              10.000000                3.500000           745.000000   \n",
       "75%              16.000000                3.500000           760.000000   \n",
       "max              32.000000                5.200000           960.000000   \n",
       "\n",
       "       Number of 3.5\" hard-disk drives and Others (other than main storage)  \\\n",
       "count                                        1862.000000                      \n",
       "mean                                            0.052095                      \n",
       "std                                             0.229415                      \n",
       "min                                             0.000000                      \n",
       "25%                                             0.000000                      \n",
       "50%                                             0.000000                      \n",
       "75%                                             0.000000                      \n",
       "max                                             2.000000                      \n",
       "\n",
       "       Number of solid-state drives (other than main storage)  \\\n",
       "count                                        1862.000000        \n",
       "mean                                            0.869495        \n",
       "std                                             0.358580        \n",
       "min                                             0.000000        \n",
       "25%                                             1.000000        \n",
       "50%                                             1.000000        \n",
       "75%                                             1.000000        \n",
       "max                                             3.000000        \n",
       "\n",
       "       First Discrete GPU Frame Buffer Bandwidth (rounded to nearest gigabyte per second)  \\\n",
       "count                                        1862.000000                                    \n",
       "mean                                          566.408324                                    \n",
       "std                                           161.042076                                    \n",
       "min                                            48.000000                                    \n",
       "25%                                           512.000000                                    \n",
       "50%                                           512.000000                                    \n",
       "75%                                           512.000000                                    \n",
       "max                                           936.200000                                    \n",
       "\n",
       "       Total Number of System Memory Channels Used  \\\n",
       "count                                  1862.000000   \n",
       "mean                                      2.023093   \n",
       "std                                       0.276237   \n",
       "min                                       1.000000   \n",
       "25%                                       2.000000   \n",
       "50%                                       2.000000   \n",
       "75%                                       2.000000   \n",
       "max                                       4.000000   \n",
       "\n",
       "       First channel system memory (gigabytes)  \\\n",
       "count                              1862.000000   \n",
       "mean                                  8.867884   \n",
       "std                                   3.881472   \n",
       "min                                   8.000000   \n",
       "25%                                   8.000000   \n",
       "50%                                   8.000000   \n",
       "75%                                   8.000000   \n",
       "max                                  64.000000   \n",
       "\n",
       "       First channel system memory bandwidth (gigabytes/second)  \\\n",
       "count                                        1862.000000          \n",
       "mean                                           29.971660          \n",
       "std                                            20.301389          \n",
       "min                                            16.000000          \n",
       "25%                                            28.800000          \n",
       "50%                                            28.800000          \n",
       "75%                                            28.800000          \n",
       "max                                           519.200000          \n",
       "\n",
       "       Internal power supply size (watts)  Short-idle power (watts)  \n",
       "count                         1862.000000               1862.000000  \n",
       "mean                           778.088077                 54.936332  \n",
       "std                            131.121713                 13.640193  \n",
       "min                            500.000000                 32.200000  \n",
       "25%                            650.000000                 45.442500  \n",
       "50%                            750.000000                 52.745000  \n",
       "75%                            850.000000                 62.260000  \n",
       "max                           1600.000000                175.000000  "
      ]
     },
     "execution_count": 8,
     "metadata": {},
     "output_type": "execute_result"
    }
   ],
   "source": [
    "df.describe()"
   ]
  },
  {
   "cell_type": "markdown",
   "id": "ab0db1c0",
   "metadata": {},
   "source": [
    "## Power Consumption Measurements"
   ]
  },
  {
   "cell_type": "code",
   "execution_count": 21,
   "id": "008aec41",
   "metadata": {},
   "outputs": [],
   "source": [
    "power = pd.read_csv('SearchResults.csv')\n",
    "power = power[['Short-idle power (watts)', 'Long-idle power (watts)', 'Computer sleep mode power (watts)']]"
   ]
  },
  {
   "cell_type": "code",
   "execution_count": 25,
   "id": "ed5b926c",
   "metadata": {
    "scrolled": true
   },
   "outputs": [
    {
     "data": {
      "text/plain": [
       "<AxesSubplot:ylabel='Count'>"
      ]
     },
     "execution_count": 25,
     "metadata": {},
     "output_type": "execute_result"
    },
    {
     "data": {
      "image/png": "[encoded data removed]",
      "text/plain": [
       "<Figure size 432x288 with 1 Axes>"
      ]
     },
     "metadata": {
      "needs_background": "light"
     },
     "output_type": "display_data"
    }
   ],
   "source": [
    "sns.histplot(data = power)"
   ]
  },
  {
   "cell_type": "code",
   "execution_count": 32,
   "id": "6e5f0ab2",
   "metadata": {},
   "outputs": [
    {
     "data": {
      "text/html": [
       "<div>\n",
       "<style scoped>\n",
       "    .dataframe tbody tr th:only-of-type {\n",
       "        vertical-align: middle;\n",
       "    }\n",
       "\n",
       "    .dataframe tbody tr th {\n",
       "        vertical-align: top;\n",
       "    }\n",
       "\n",
       "    .dataframe thead th {\n",
       "        text-align: right;\n",
       "    }\n",
       "</style>\n",
       "<table border=\"1\" class=\"dataframe\">\n",
       "  <thead>\n",
       "    <tr style=\"text-align: right;\">\n",
       "      <th></th>\n",
       "      <th>Short-idle power (watts)</th>\n",
       "      <th>Long-idle power (watts)</th>\n",
       "      <th>Computer sleep mode power (watts)</th>\n",
       "    </tr>\n",
       "  </thead>\n",
       "  <tbody>\n",
       "    <tr>\n",
       "      <th>mean</th>\n",
       "      <td>58.958719</td>\n",
       "      <td>60.870154</td>\n",
       "      <td>4.266051</td>\n",
       "    </tr>\n",
       "    <tr>\n",
       "      <th>std</th>\n",
       "      <td>15.260163</td>\n",
       "      <td>14.972945</td>\n",
       "      <td>2.086310</td>\n",
       "    </tr>\n",
       "  </tbody>\n",
       "</table>\n",
       "</div>"
      ],
      "text/plain": [
       "      Short-idle power (watts)  Long-idle power (watts)  \\\n",
       "mean                 58.958719                60.870154   \n",
       "std                  15.260163                14.972945   \n",
       "\n",
       "      Computer sleep mode power (watts)  \n",
       "mean                           4.266051  \n",
       "std                            2.086310  "
      ]
     },
     "execution_count": 32,
     "metadata": {},
     "output_type": "execute_result"
    }
   ],
   "source": [
    "pd.DataFrame(power.describe()).iloc[[1, 2]]"
   ]
  },
  {
   "cell_type": "markdown",
   "id": "ddbb337b",
   "metadata": {},
   "source": [
    "## Expandability"
   ]
  },
  {
   "cell_type": "code",
   "execution_count": 111,
   "id": "d555b5c6",
   "metadata": {},
   "outputs": [],
   "source": [
    "# Binarizing Expandability Score\n",
    "df['HES'] = df['Expandability Score'].apply(lambda x: True if x >= 690 else False)"
   ]
  },
  {
   "cell_type": "code",
   "execution_count": 76,
   "id": "bb4634f1",
   "metadata": {},
   "outputs": [
    {
     "name": "stdout",
     "output_type": "stream",
     "text": [
      "P-Value for t-test : 3.93607709619168e-12\n"
     ]
    }
   ],
   "source": [
    "# t Test\n",
    "print(f\"P-Value for t-test : { float(stats.ttest_ind(df[df['HES'] == True]['Short-Idle Power (Watts)'], df[df['HES'] == False]['Short-Idle Power (Watts)']).pvalue)}\")"
   ]
  },
  {
   "cell_type": "code",
   "execution_count": 57,
   "id": "0085e0e6",
   "metadata": {
    "scrolled": true
   },
   "outputs": [
    {
     "data": {
      "text/plain": [
       "<AxesSubplot:xlabel='HES', ylabel='Short-Idle Power (Watts)'>"
      ]
     },
     "execution_count": 57,
     "metadata": {},
     "output_type": "execute_result"
    },
    {
     "data": {
      "image/png": "[encoded data removed]",
      "text/plain": [
       "<Figure size 432x288 with 1 Axes>"
      ]
     },
     "metadata": {
      "needs_background": "light"
     },
     "output_type": "display_data"
    }
   ],
   "source": [
    "sns.boxplot(data = df, y = 'Short-Idle Power (Watts)', x = 'HES')"
   ]
  },
  {
   "cell_type": "code",
   "execution_count": 60,
   "id": "3d1ea4fd",
   "metadata": {},
   "outputs": [
    {
     "data": {
      "text/html": [
       "<div>\n",
       "<style scoped>\n",
       "    .dataframe tbody tr th:only-of-type {\n",
       "        vertical-align: middle;\n",
       "    }\n",
       "\n",
       "    .dataframe tbody tr th {\n",
       "        vertical-align: top;\n",
       "    }\n",
       "\n",
       "    .dataframe thead th {\n",
       "        text-align: right;\n",
       "    }\n",
       "</style>\n",
       "<table border=\"1\" class=\"dataframe\">\n",
       "  <thead>\n",
       "    <tr style=\"text-align: right;\">\n",
       "      <th></th>\n",
       "      <th>mean</th>\n",
       "      <th>std</th>\n",
       "    </tr>\n",
       "    <tr>\n",
       "      <th>HES</th>\n",
       "      <th></th>\n",
       "      <th></th>\n",
       "    </tr>\n",
       "  </thead>\n",
       "  <tbody>\n",
       "    <tr>\n",
       "      <th>False</th>\n",
       "      <td>64.287917</td>\n",
       "      <td>14.781234</td>\n",
       "    </tr>\n",
       "    <tr>\n",
       "      <th>True</th>\n",
       "      <td>54.427978</td>\n",
       "      <td>13.394013</td>\n",
       "    </tr>\n",
       "  </tbody>\n",
       "</table>\n",
       "</div>"
      ],
      "text/plain": [
       "            mean        std\n",
       "HES                        \n",
       "False  64.287917  14.781234\n",
       "True   54.427978  13.394013"
      ]
     },
     "execution_count": 60,
     "metadata": {},
     "output_type": "execute_result"
    }
   ],
   "source": [
    "df.groupby('HES')['Short-Idle Power (Watts)'].describe()[['mean', 'std']]"
   ]
  },
  {
   "cell_type": "markdown",
   "id": "825fc5d9",
   "metadata": {},
   "source": [
    "# Bronze Power Supplies vs Gold"
   ]
  },
  {
   "cell_type": "code",
   "execution_count": 88,
   "id": "c502b2c7",
   "metadata": {},
   "outputs": [
    {
     "name": "stdout",
     "output_type": "stream",
     "text": [
      "Mean for Bronze PSU: 49.57\n",
      "Mean for Gold PSU: 50.86\n"
     ]
    }
   ],
   "source": [
    "print(f\"Mean for Bronze PSU: {round(np.mean(df[(df['PSU'] == 'GP-P650B') & \\\n",
    "                            (df['CPU'] == (16.0, 3.4))]['Short-Idle Power (Watts)']), 2)}\")\n",
    "print(f\"Mean for Gold PSU: {round(np.mean(df[~(df['PSU'] == 'GP-P650B') & \\\n",
    "                            (df['CPU'] == (16.0, 3.4)) & (df['PSU Size (Watts)'] == 650) & \\\n",
    "                            (df['GPU Bandwidth'] == 512.0)]['Short-Idle Power (Watts)']),2)}\")"
   ]
  },
  {
   "cell_type": "code",
   "execution_count": 85,
   "id": "922b5b9c",
   "metadata": {},
   "outputs": [
    {
     "name": "stdout",
     "output_type": "stream",
     "text": [
      "P-Value comparing Bronze vs Gold 650 watt PSU : 0.4214969328487391\n"
     ]
    }
   ],
   "source": [
    "print(f\"P-Value comparing Bronze vs Gold 650 watt PSU : {stats.ttest_ind(df[(df['PSU'] == 'GP-P650B') & (df['CPU'] == (16.0, 3.4))]['Short-Idle Power (Watts)'], (df[~(df['PSU'] == 'GP-P650B') & (df['CPU'] == (16.0, 3.4)) & (df['PSU Size (Watts)'] == 650) & (df['GPU Bandwidth'] == 512.0)]['Short-Idle Power (Watts)'])).pvalue}\")"
   ]
  },
  {
   "cell_type": "markdown",
   "id": "6f51165e",
   "metadata": {},
   "source": [
    "# Modeling Power Consumption for Skytech Gaming\n",
    "## Import, cleaning"
   ]
  },
  {
   "cell_type": "code",
   "execution_count": 114,
   "id": "2f3791da",
   "metadata": {},
   "outputs": [
    {
     "data": {
      "text/html": [
       "<div>\n",
       "<style scoped>\n",
       "    .dataframe tbody tr th:only-of-type {\n",
       "        vertical-align: middle;\n",
       "    }\n",
       "\n",
       "    .dataframe tbody tr th {\n",
       "        vertical-align: top;\n",
       "    }\n",
       "\n",
       "    .dataframe thead th {\n",
       "        text-align: right;\n",
       "    }\n",
       "</style>\n",
       "<table border=\"1\" class=\"dataframe\">\n",
       "  <thead>\n",
       "    <tr style=\"text-align: right;\">\n",
       "      <th></th>\n",
       "      <th>CPU Cores</th>\n",
       "      <th>Core Speed (GHz)</th>\n",
       "      <th>Expandability Score</th>\n",
       "      <th>Number of hard disk drives</th>\n",
       "      <th>Number of extra solid-state drives</th>\n",
       "      <th>GPU Bandwidth</th>\n",
       "      <th>Ram Speed (GB/s)</th>\n",
       "      <th>RAM Capacity (GB)</th>\n",
       "      <th>Motherboard</th>\n",
       "      <th>PSU</th>\n",
       "      <th>PSU Size (Watts)</th>\n",
       "      <th>Short-Idle Power (Watts)</th>\n",
       "    </tr>\n",
       "  </thead>\n",
       "  <tbody>\n",
       "    <tr>\n",
       "      <th>7691</th>\n",
       "      <td>8.0</td>\n",
       "      <td>3.6</td>\n",
       "      <td>725.0</td>\n",
       "      <td>0.0</td>\n",
       "      <td>0.0</td>\n",
       "      <td>912.0</td>\n",
       "      <td>25.6</td>\n",
       "      <td>16.0</td>\n",
       "      <td>B550 UD AC</td>\n",
       "      <td>THERMALTAKE PS-TTP-0600NNFAGU-1</td>\n",
       "      <td>600.0</td>\n",
       "      <td>51.7</td>\n",
       "    </tr>\n",
       "    <tr>\n",
       "      <th>7436</th>\n",
       "      <td>8.0</td>\n",
       "      <td>2.5</td>\n",
       "      <td>710.0</td>\n",
       "      <td>0.0</td>\n",
       "      <td>0.0</td>\n",
       "      <td>448.0</td>\n",
       "      <td>25.6</td>\n",
       "      <td>16.0</td>\n",
       "      <td>B560 AC-HES</td>\n",
       "      <td>GAMDIAS GD-KRATOS P1A-750G</td>\n",
       "      <td>750.0</td>\n",
       "      <td>44.9</td>\n",
       "    </tr>\n",
       "    <tr>\n",
       "      <th>7461</th>\n",
       "      <td>6.0</td>\n",
       "      <td>2.9</td>\n",
       "      <td>755.0</td>\n",
       "      <td>0.0</td>\n",
       "      <td>0.0</td>\n",
       "      <td>128.0</td>\n",
       "      <td>24.0</td>\n",
       "      <td>16.0</td>\n",
       "      <td>B560 DS3H</td>\n",
       "      <td>GAMDIAS HELIOS P1-600G</td>\n",
       "      <td>600.0</td>\n",
       "      <td>42.2</td>\n",
       "    </tr>\n",
       "    <tr>\n",
       "      <th>4661</th>\n",
       "      <td>8.0</td>\n",
       "      <td>3.8</td>\n",
       "      <td>810.0</td>\n",
       "      <td>0.0</td>\n",
       "      <td>0.0</td>\n",
       "      <td>512.0</td>\n",
       "      <td>25.6</td>\n",
       "      <td>16.0</td>\n",
       "      <td>X570 RIPTIDE</td>\n",
       "      <td>AG-750M</td>\n",
       "      <td>750.0</td>\n",
       "      <td>56.8</td>\n",
       "    </tr>\n",
       "    <tr>\n",
       "      <th>7699</th>\n",
       "      <td>8.0</td>\n",
       "      <td>3.6</td>\n",
       "      <td>725.0</td>\n",
       "      <td>0.0</td>\n",
       "      <td>0.0</td>\n",
       "      <td>912.0</td>\n",
       "      <td>25.6</td>\n",
       "      <td>16.0</td>\n",
       "      <td>B550 UD AC</td>\n",
       "      <td>GP-P750GM</td>\n",
       "      <td>750.0</td>\n",
       "      <td>73.0</td>\n",
       "    </tr>\n",
       "  </tbody>\n",
       "</table>\n",
       "</div>"
      ],
      "text/plain": [
       "      CPU Cores  Core Speed (GHz)  Expandability Score  \\\n",
       "7691        8.0               3.6                725.0   \n",
       "7436        8.0               2.5                710.0   \n",
       "7461        6.0               2.9                755.0   \n",
       "4661        8.0               3.8                810.0   \n",
       "7699        8.0               3.6                725.0   \n",
       "\n",
       "      Number of hard disk drives  Number of extra solid-state drives  \\\n",
       "7691                         0.0                                 0.0   \n",
       "7436                         0.0                                 0.0   \n",
       "7461                         0.0                                 0.0   \n",
       "4661                         0.0                                 0.0   \n",
       "7699                         0.0                                 0.0   \n",
       "\n",
       "      GPU Bandwidth  Ram Speed (GB/s)  RAM Capacity (GB)   Motherboard  \\\n",
       "7691          912.0              25.6               16.0    B550 UD AC   \n",
       "7436          448.0              25.6               16.0   B560 AC-HES   \n",
       "7461          128.0              24.0               16.0     B560 DS3H   \n",
       "4661          512.0              25.6               16.0  X570 RIPTIDE   \n",
       "7699          912.0              25.6               16.0    B550 UD AC   \n",
       "\n",
       "                                  PSU  PSU Size (Watts)  \\\n",
       "7691  THERMALTAKE PS-TTP-0600NNFAGU-1             600.0   \n",
       "7436       GAMDIAS GD-KRATOS P1A-750G             750.0   \n",
       "7461           GAMDIAS HELIOS P1-600G             600.0   \n",
       "4661                          AG-750M             750.0   \n",
       "7699                        GP-P750GM             750.0   \n",
       "\n",
       "      Short-Idle Power (Watts)  \n",
       "7691                      51.7  \n",
       "7436                      44.9  \n",
       "7461                      42.2  \n",
       "4661                      56.8  \n",
       "7699                      73.0  "
      ]
     },
     "execution_count": 114,
     "metadata": {},
     "output_type": "execute_result"
    }
   ],
   "source": [
    "skytech = pd.read_csv('full_data.csv')\n",
    "skytech = skytech[skytech['Brand'].str.contains('Skytech')]\n",
    "skytech = skytech[skytech['Computer Type'] == 'High Expandability Computer']\n",
    "skytech = skytech[[\n",
    "    'Number of CPU Cores', 'Core Speed (gigahertz)', \\\n",
    "    'Expandability Score', \\\n",
    "    'Number of 3.5\" hard-disk drives and Others (other than main storage)', \\\n",
    "    'Number of solid-state drives (other than main storage)', \\\n",
    "    'First Discrete GPU Frame Buffer Bandwidth (rounded to nearest gigabyte per second)', \\\n",
    "    'Total Number of System Memory Channels Used', \\\n",
    "    'First channel system memory (gigabytes)', \\\n",
    "    'First channel system memory bandwidth (gigabytes/second)', \\\n",
    "    'Motherboard model number', \\\n",
    "    'Power supply model number', \\\n",
    "    'Internal power supply size (watts)', \\\n",
    "    'Short-idle power (watts)']]\n",
    "skytech['Motherboard model number'] = skytech['Motherboard model number'].str.upper()\n",
    "skytech['Power supply model number'] = skytech['Power supply model number'].str.upper()\n",
    "skytech.drop_duplicates(inplace = True)\n",
    "skytech['RAM Size'] = skytech.apply(lambda x: x['Total Number of System Memory Channels Used'] * x['First channel system memory (gigabytes)'], axis = 1)\n",
    "skytech['CPU'] = tuple(zip(skytech['Number of CPU Cores'], skytech['Core Speed (gigahertz)']))\n",
    "skytech.drop(columns = ['Total Number of System Memory Channels Used', 'First channel system memory (gigabytes)'], inplace = True)\n",
    "skytech.columns = ['CPU Cores', 'Core Speed (GHz)', 'Expandability Score', 'Number of hard disk drives', 'Number of extra solid-state drives', 'GPU Bandwidth', 'Ram Speed (GB/s)', 'Motherboard', 'PSU', 'PSU Size (Watts)', 'Short-Idle Power (Watts)', 'RAM Capacity (GB)', 'CPU']\n",
    "skytech = skytech[['CPU Cores', 'Core Speed (GHz)', 'Expandability Score' , 'Number of hard disk drives', 'Number of extra solid-state drives', 'GPU Bandwidth', 'Ram Speed (GB/s)', 'RAM Capacity (GB)', 'Motherboard', 'PSU', 'PSU Size (Watts)', 'Short-Idle Power (Watts)']]\n",
    "skytech.sample(5)"
   ]
  },
  {
   "cell_type": "markdown",
   "id": "cf626839",
   "metadata": {},
   "source": [
    "## Converting MOBO Model to Chipset"
   ]
  },
  {
   "cell_type": "code",
   "execution_count": 3,
   "id": "2f459983",
   "metadata": {},
   "outputs": [],
   "source": [
    "\n",
    "def mobo_to_chipset(x):\n",
    "    chipsets = ('B550', 'B560', 'X570', 'Z590')\n",
    "    if 'B550' in x:\n",
    "        return('B550')\n",
    "    elif 'B560' in x:\n",
    "        return('B560')\n",
    "    elif 'X570' in x:\n",
    "        return('X570')\n",
    "    elif 'Z590' in x:\n",
    "        return('Z590')\n",
    "    else:\n",
    "        return('Unknown')"
   ]
  },
  {
   "cell_type": "code",
   "execution_count": 4,
   "id": "b5beaced",
   "metadata": {},
   "outputs": [],
   "source": [
    "skytech['Chipset'] = skytech.Motherboard.apply(lambda x: mobo_to_chipset(x))\n",
    "skytech.drop(columns = ['PSU', 'Motherboard'], inplace = True)"
   ]
  },
  {
   "cell_type": "code",
   "execution_count": 5,
   "id": "1ea05b09",
   "metadata": {},
   "outputs": [
    {
     "data": {
      "text/html": [
       "<div>\n",
       "<style scoped>\n",
       "    .dataframe tbody tr th:only-of-type {\n",
       "        vertical-align: middle;\n",
       "    }\n",
       "\n",
       "    .dataframe tbody tr th {\n",
       "        vertical-align: top;\n",
       "    }\n",
       "\n",
       "    .dataframe thead th {\n",
       "        text-align: right;\n",
       "    }\n",
       "</style>\n",
       "<table border=\"1\" class=\"dataframe\">\n",
       "  <thead>\n",
       "    <tr style=\"text-align: right;\">\n",
       "      <th></th>\n",
       "      <th>CPU Cores</th>\n",
       "      <th>Core Speed (GHz)</th>\n",
       "      <th>Expandability Score</th>\n",
       "      <th>Number of hard disk drives</th>\n",
       "      <th>Number of extra solid-state drives</th>\n",
       "      <th>GPU Bandwidth</th>\n",
       "      <th>Ram Speed (GB/s)</th>\n",
       "      <th>RAM Capacity (GB)</th>\n",
       "      <th>PSU Size (Watts)</th>\n",
       "      <th>Short-Idle Power (Watts)</th>\n",
       "      <th>Chipset</th>\n",
       "    </tr>\n",
       "  </thead>\n",
       "  <tbody>\n",
       "    <tr>\n",
       "      <th>1705</th>\n",
       "      <td>8.0</td>\n",
       "      <td>3.6</td>\n",
       "      <td>510.0</td>\n",
       "      <td>0.0</td>\n",
       "      <td>0.0</td>\n",
       "      <td>912.0</td>\n",
       "      <td>25.6</td>\n",
       "      <td>16.0</td>\n",
       "      <td>750.0</td>\n",
       "      <td>50.4</td>\n",
       "      <td>B550</td>\n",
       "    </tr>\n",
       "    <tr>\n",
       "      <th>2736</th>\n",
       "      <td>8.0</td>\n",
       "      <td>3.6</td>\n",
       "      <td>610.0</td>\n",
       "      <td>0.0</td>\n",
       "      <td>0.0</td>\n",
       "      <td>608.0</td>\n",
       "      <td>28.8</td>\n",
       "      <td>16.0</td>\n",
       "      <td>750.0</td>\n",
       "      <td>88.5</td>\n",
       "      <td>Z590</td>\n",
       "    </tr>\n",
       "    <tr>\n",
       "      <th>2737</th>\n",
       "      <td>8.0</td>\n",
       "      <td>3.8</td>\n",
       "      <td>730.0</td>\n",
       "      <td>0.0</td>\n",
       "      <td>0.0</td>\n",
       "      <td>608.0</td>\n",
       "      <td>25.6</td>\n",
       "      <td>32.0</td>\n",
       "      <td>750.0</td>\n",
       "      <td>56.8</td>\n",
       "      <td>X570</td>\n",
       "    </tr>\n",
       "    <tr>\n",
       "      <th>2739</th>\n",
       "      <td>8.0</td>\n",
       "      <td>3.8</td>\n",
       "      <td>730.0</td>\n",
       "      <td>0.0</td>\n",
       "      <td>0.0</td>\n",
       "      <td>608.0</td>\n",
       "      <td>25.6</td>\n",
       "      <td>16.0</td>\n",
       "      <td>750.0</td>\n",
       "      <td>59.4</td>\n",
       "      <td>X570</td>\n",
       "    </tr>\n",
       "    <tr>\n",
       "      <th>2740</th>\n",
       "      <td>12.0</td>\n",
       "      <td>3.7</td>\n",
       "      <td>730.0</td>\n",
       "      <td>0.0</td>\n",
       "      <td>0.0</td>\n",
       "      <td>608.0</td>\n",
       "      <td>28.8</td>\n",
       "      <td>32.0</td>\n",
       "      <td>850.0</td>\n",
       "      <td>73.0</td>\n",
       "      <td>X570</td>\n",
       "    </tr>\n",
       "    <tr>\n",
       "      <th>...</th>\n",
       "      <td>...</td>\n",
       "      <td>...</td>\n",
       "      <td>...</td>\n",
       "      <td>...</td>\n",
       "      <td>...</td>\n",
       "      <td>...</td>\n",
       "      <td>...</td>\n",
       "      <td>...</td>\n",
       "      <td>...</td>\n",
       "      <td>...</td>\n",
       "      <td>...</td>\n",
       "    </tr>\n",
       "    <tr>\n",
       "      <th>8164</th>\n",
       "      <td>16.0</td>\n",
       "      <td>3.4</td>\n",
       "      <td>730.0</td>\n",
       "      <td>0.0</td>\n",
       "      <td>0.0</td>\n",
       "      <td>936.0</td>\n",
       "      <td>28.8</td>\n",
       "      <td>32.0</td>\n",
       "      <td>1000.0</td>\n",
       "      <td>66.0</td>\n",
       "      <td>X570</td>\n",
       "    </tr>\n",
       "    <tr>\n",
       "      <th>8165</th>\n",
       "      <td>16.0</td>\n",
       "      <td>3.4</td>\n",
       "      <td>735.0</td>\n",
       "      <td>0.0</td>\n",
       "      <td>0.0</td>\n",
       "      <td>936.0</td>\n",
       "      <td>28.8</td>\n",
       "      <td>32.0</td>\n",
       "      <td>1000.0</td>\n",
       "      <td>67.3</td>\n",
       "      <td>X570</td>\n",
       "    </tr>\n",
       "    <tr>\n",
       "      <th>8166</th>\n",
       "      <td>8.0</td>\n",
       "      <td>3.8</td>\n",
       "      <td>730.0</td>\n",
       "      <td>0.0</td>\n",
       "      <td>0.0</td>\n",
       "      <td>912.0</td>\n",
       "      <td>25.6</td>\n",
       "      <td>16.0</td>\n",
       "      <td>850.0</td>\n",
       "      <td>60.4</td>\n",
       "      <td>X570</td>\n",
       "    </tr>\n",
       "    <tr>\n",
       "      <th>8168</th>\n",
       "      <td>8.0</td>\n",
       "      <td>2.5</td>\n",
       "      <td>710.0</td>\n",
       "      <td>0.0</td>\n",
       "      <td>0.0</td>\n",
       "      <td>448.0</td>\n",
       "      <td>25.6</td>\n",
       "      <td>16.0</td>\n",
       "      <td>650.0</td>\n",
       "      <td>54.4</td>\n",
       "      <td>B560</td>\n",
       "    </tr>\n",
       "    <tr>\n",
       "      <th>8169</th>\n",
       "      <td>6.0</td>\n",
       "      <td>2.6</td>\n",
       "      <td>725.0</td>\n",
       "      <td>0.0</td>\n",
       "      <td>0.0</td>\n",
       "      <td>224.0</td>\n",
       "      <td>25.6</td>\n",
       "      <td>16.0</td>\n",
       "      <td>600.0</td>\n",
       "      <td>38.5</td>\n",
       "      <td>B560</td>\n",
       "    </tr>\n",
       "  </tbody>\n",
       "</table>\n",
       "<p>157 rows × 11 columns</p>\n",
       "</div>"
      ],
      "text/plain": [
       "      CPU Cores  Core Speed (GHz)  Expandability Score  \\\n",
       "1705        8.0               3.6                510.0   \n",
       "2736        8.0               3.6                610.0   \n",
       "2737        8.0               3.8                730.0   \n",
       "2739        8.0               3.8                730.0   \n",
       "2740       12.0               3.7                730.0   \n",
       "...         ...               ...                  ...   \n",
       "8164       16.0               3.4                730.0   \n",
       "8165       16.0               3.4                735.0   \n",
       "8166        8.0               3.8                730.0   \n",
       "8168        8.0               2.5                710.0   \n",
       "8169        6.0               2.6                725.0   \n",
       "\n",
       "      Number of hard disk drives  Number of extra solid-state drives  \\\n",
       "1705                         0.0                                 0.0   \n",
       "2736                         0.0                                 0.0   \n",
       "2737                         0.0                                 0.0   \n",
       "2739                         0.0                                 0.0   \n",
       "2740                         0.0                                 0.0   \n",
       "...                          ...                                 ...   \n",
       "8164                         0.0                                 0.0   \n",
       "8165                         0.0                                 0.0   \n",
       "8166                         0.0                                 0.0   \n",
       "8168                         0.0                                 0.0   \n",
       "8169                         0.0                                 0.0   \n",
       "\n",
       "      GPU Bandwidth  Ram Speed (GB/s)  RAM Capacity (GB)  PSU Size (Watts)  \\\n",
       "1705          912.0              25.6               16.0             750.0   \n",
       "2736          608.0              28.8               16.0             750.0   \n",
       "2737          608.0              25.6               32.0             750.0   \n",
       "2739          608.0              25.6               16.0             750.0   \n",
       "2740          608.0              28.8               32.0             850.0   \n",
       "...             ...               ...                ...               ...   \n",
       "8164          936.0              28.8               32.0            1000.0   \n",
       "8165          936.0              28.8               32.0            1000.0   \n",
       "8166          912.0              25.6               16.0             850.0   \n",
       "8168          448.0              25.6               16.0             650.0   \n",
       "8169          224.0              25.6               16.0             600.0   \n",
       "\n",
       "      Short-Idle Power (Watts) Chipset  \n",
       "1705                      50.4    B550  \n",
       "2736                      88.5    Z590  \n",
       "2737                      56.8    X570  \n",
       "2739                      59.4    X570  \n",
       "2740                      73.0    X570  \n",
       "...                        ...     ...  \n",
       "8164                      66.0    X570  \n",
       "8165                      67.3    X570  \n",
       "8166                      60.4    X570  \n",
       "8168                      54.4    B560  \n",
       "8169                      38.5    B560  \n",
       "\n",
       "[157 rows x 11 columns]"
      ]
     },
     "execution_count": 5,
     "metadata": {},
     "output_type": "execute_result"
    }
   ],
   "source": [
    "skytech"
   ]
  },
  {
   "cell_type": "markdown",
   "id": "6ccd2a10",
   "metadata": {},
   "source": [
    "## Looking at consumption by PSU wattage"
   ]
  },
  {
   "cell_type": "code",
   "execution_count": 26,
   "id": "979c71c7",
   "metadata": {},
   "outputs": [
    {
     "name": "stdout",
     "output_type": "stream",
     "text": [
      "Pearson's Correlation Coeff: 0.5608739139384483\n"
     ]
    },
    {
     "data": {
      "image/png": "[encoded data removed]",
      "text/plain": [
       "<Figure size 432x288 with 1 Axes>"
      ]
     },
     "metadata": {
      "needs_background": "light"
     },
     "output_type": "display_data"
    }
   ],
   "source": [
    "from scipy import stats\n",
    "sns.regplot(data = skytech, x = 'PSU Size (Watts)', y = 'Short-Idle Power (Watts)')\n",
    "print(f\"Pearson's Correlation Coeff: {stats.pearsonr(skytech['PSU Size (Watts)'], skytech['Short-Idle Power (Watts)'])[0]}\")\n"
   ]
  },
  {
   "cell_type": "markdown",
   "id": "d5a80496",
   "metadata": {},
   "source": [
    "## Addressing chipset class imbalance"
   ]
  },
  {
   "cell_type": "code",
   "execution_count": 7,
   "id": "3c2cd070",
   "metadata": {},
   "outputs": [
    {
     "data": {
      "text/plain": [
       "B550    83\n",
       "X570    35\n",
       "B560    32\n",
       "Z590     7\n",
       "Name: Chipset, dtype: int64"
      ]
     },
     "execution_count": 7,
     "metadata": {},
     "output_type": "execute_result"
    }
   ],
   "source": [
    "skytech.Chipset.value_counts()"
   ]
  },
  {
   "cell_type": "code",
   "execution_count": 6,
   "id": "c2d815d6",
   "metadata": {},
   "outputs": [],
   "source": [
    "from imblearn.over_sampling import RandomOverSampler \n",
    "ros = RandomOverSampler(random_state=42)\n",
    "skytech_resampled, chipset_resampled = ros.fit_resample(skytech.drop(columns = ['Chipset']), skytech['Chipset'])"
   ]
  },
  {
   "cell_type": "code",
   "execution_count": 49,
   "id": "f05c2fbe",
   "metadata": {},
   "outputs": [],
   "source": [
    "skytech_resampled['Chipset'] = chipset_resampled"
   ]
  },
  {
   "cell_type": "code",
   "execution_count": 50,
   "id": "631204f9",
   "metadata": {},
   "outputs": [
    {
     "data": {
      "text/html": [
       "<div>\n",
       "<style scoped>\n",
       "    .dataframe tbody tr th:only-of-type {\n",
       "        vertical-align: middle;\n",
       "    }\n",
       "\n",
       "    .dataframe tbody tr th {\n",
       "        vertical-align: top;\n",
       "    }\n",
       "\n",
       "    .dataframe thead th {\n",
       "        text-align: right;\n",
       "    }\n",
       "</style>\n",
       "<table border=\"1\" class=\"dataframe\">\n",
       "  <thead>\n",
       "    <tr style=\"text-align: right;\">\n",
       "      <th></th>\n",
       "      <th>CPU Cores</th>\n",
       "      <th>Core Speed (GHz)</th>\n",
       "      <th>Expandability Score</th>\n",
       "      <th>Number of hard disk drives</th>\n",
       "      <th>Number of extra solid-state drives</th>\n",
       "      <th>GPU Bandwidth</th>\n",
       "      <th>Ram Speed (GB/s)</th>\n",
       "      <th>RAM Capacity (GB)</th>\n",
       "      <th>PSU Size (Watts)</th>\n",
       "      <th>Short-Idle Power (Watts)</th>\n",
       "      <th>Chipset</th>\n",
       "    </tr>\n",
       "  </thead>\n",
       "  <tbody>\n",
       "    <tr>\n",
       "      <th>275</th>\n",
       "      <td>8.0</td>\n",
       "      <td>3.6</td>\n",
       "      <td>700.0</td>\n",
       "      <td>0.0</td>\n",
       "      <td>0.0</td>\n",
       "      <td>936.0</td>\n",
       "      <td>28.8</td>\n",
       "      <td>32.0</td>\n",
       "      <td>850.0</td>\n",
       "      <td>47.5</td>\n",
       "      <td>Z590</td>\n",
       "    </tr>\n",
       "    <tr>\n",
       "      <th>298</th>\n",
       "      <td>8.0</td>\n",
       "      <td>3.6</td>\n",
       "      <td>610.0</td>\n",
       "      <td>0.0</td>\n",
       "      <td>0.0</td>\n",
       "      <td>608.0</td>\n",
       "      <td>28.8</td>\n",
       "      <td>16.0</td>\n",
       "      <td>750.0</td>\n",
       "      <td>88.5</td>\n",
       "      <td>Z590</td>\n",
       "    </tr>\n",
       "    <tr>\n",
       "      <th>183</th>\n",
       "      <td>6.0</td>\n",
       "      <td>2.9</td>\n",
       "      <td>710.0</td>\n",
       "      <td>0.0</td>\n",
       "      <td>0.0</td>\n",
       "      <td>448.0</td>\n",
       "      <td>25.6</td>\n",
       "      <td>16.0</td>\n",
       "      <td>600.0</td>\n",
       "      <td>46.4</td>\n",
       "      <td>B560</td>\n",
       "    </tr>\n",
       "    <tr>\n",
       "      <th>310</th>\n",
       "      <td>8.0</td>\n",
       "      <td>3.6</td>\n",
       "      <td>585.0</td>\n",
       "      <td>0.0</td>\n",
       "      <td>0.0</td>\n",
       "      <td>912.0</td>\n",
       "      <td>25.6</td>\n",
       "      <td>32.0</td>\n",
       "      <td>850.0</td>\n",
       "      <td>63.0</td>\n",
       "      <td>Z590</td>\n",
       "    </tr>\n",
       "    <tr>\n",
       "      <th>42</th>\n",
       "      <td>6.0</td>\n",
       "      <td>3.7</td>\n",
       "      <td>580.0</td>\n",
       "      <td>0.0</td>\n",
       "      <td>0.0</td>\n",
       "      <td>608.0</td>\n",
       "      <td>25.6</td>\n",
       "      <td>16.0</td>\n",
       "      <td>750.0</td>\n",
       "      <td>71.9</td>\n",
       "      <td>B550</td>\n",
       "    </tr>\n",
       "  </tbody>\n",
       "</table>\n",
       "</div>"
      ],
      "text/plain": [
       "     CPU Cores  Core Speed (GHz)  Expandability Score  \\\n",
       "275        8.0               3.6                700.0   \n",
       "298        8.0               3.6                610.0   \n",
       "183        6.0               2.9                710.0   \n",
       "310        8.0               3.6                585.0   \n",
       "42         6.0               3.7                580.0   \n",
       "\n",
       "     Number of hard disk drives  Number of extra solid-state drives  \\\n",
       "275                         0.0                                 0.0   \n",
       "298                         0.0                                 0.0   \n",
       "183                         0.0                                 0.0   \n",
       "310                         0.0                                 0.0   \n",
       "42                          0.0                                 0.0   \n",
       "\n",
       "     GPU Bandwidth  Ram Speed (GB/s)  RAM Capacity (GB)  PSU Size (Watts)  \\\n",
       "275          936.0              28.8               32.0             850.0   \n",
       "298          608.0              28.8               16.0             750.0   \n",
       "183          448.0              25.6               16.0             600.0   \n",
       "310          912.0              25.6               32.0             850.0   \n",
       "42           608.0              25.6               16.0             750.0   \n",
       "\n",
       "     Short-Idle Power (Watts) Chipset  \n",
       "275                      47.5    Z590  \n",
       "298                      88.5    Z590  \n",
       "183                      46.4    B560  \n",
       "310                      63.0    Z590  \n",
       "42                       71.9    B550  "
      ]
     },
     "execution_count": 50,
     "metadata": {},
     "output_type": "execute_result"
    }
   ],
   "source": [
    "skytech_resampled.sample(5)"
   ]
  },
  {
   "cell_type": "code",
   "execution_count": 277,
   "id": "b6746cfd",
   "metadata": {},
   "outputs": [
    {
     "data": {
      "text/plain": [
       "B550    83\n",
       "X570    83\n",
       "B560    83\n",
       "Z590    83\n",
       "Name: Chipset, dtype: int64"
      ]
     },
     "execution_count": 277,
     "metadata": {},
     "output_type": "execute_result"
    }
   ],
   "source": [
    "skytech_resampled.Chipset.value_counts()"
   ]
  },
  {
   "cell_type": "markdown",
   "id": "45ac7a74",
   "metadata": {},
   "source": [
    "## Model Training"
   ]
  },
  {
   "cell_type": "code",
   "execution_count": 27,
   "id": "44be1817",
   "metadata": {},
   "outputs": [],
   "source": [
    "from sklearn.preprocessing import MinMaxScaler\n",
    "from sklearn.model_selection import train_test_split\n",
    "from sklearn.model_selection import GridSearchCV\n",
    "\n",
    "scaler = MinMaxScaler()\n",
    "X = scaler.fit_transform(pd.get_dummies(skytech_resampled.drop(columns = ['Short-Idle Power (Watts)'])))\n",
    "y = skytech_resampled['Short-Idle Power (Watts)']"
   ]
  },
  {
   "cell_type": "code",
   "execution_count": 28,
   "id": "b0b59e35",
   "metadata": {},
   "outputs": [
    {
     "data": {
      "text/plain": [
       "0.7082298842888437"
      ]
     },
     "execution_count": 28,
     "metadata": {},
     "output_type": "execute_result"
    }
   ],
   "source": [
    "X_train, X_test, y_train, y_test = train_test_split(X, y, test_size = .2)\n",
    "from sklearn.ensemble import GradientBoostingRegressor\n",
    "reg = GradientBoostingRegressor()\n",
    "reg.fit(X_train, y_train)\n",
    "reg.score(X_test, y_test)"
   ]
  },
  {
   "cell_type": "code",
   "execution_count": 29,
   "id": "9322e4d9",
   "metadata": {},
   "outputs": [
    {
     "data": {
      "text/plain": [
       "0.921893927390209"
      ]
     },
     "execution_count": 29,
     "metadata": {},
     "output_type": "execute_result"
    }
   ],
   "source": [
    "reg.score(X_train, y_train)"
   ]
  },
  {
   "cell_type": "code",
   "execution_count": 41,
   "id": "1d6585ae",
   "metadata": {},
   "outputs": [
    {
     "data": {
      "text/plain": [
       "0.7112368589801347"
      ]
     },
     "execution_count": 41,
     "metadata": {},
     "output_type": "execute_result"
    }
   ],
   "source": [
    "grid = {'learning_rate': [i / 100 for i in range(1,100, 5)] + [.5, 1],\n",
    "               'n_estimators': [i for i in range(50, 200, 20)],\n",
    "               'max_depth': [i for i in range (2, 7)]}\n",
    "search = GridSearchCV(reg, param_grid = grid, cv = 3)\n",
    "search.fit(X_train, y_train)\n",
    "best = search.best_estimator_\n",
    "best.fit(X_train, y_train)\n",
    "best.score(X_test, y_test)"
   ]
  },
  {
   "cell_type": "code",
   "execution_count": 31,
   "id": "f095f778",
   "metadata": {},
   "outputs": [
    {
     "data": {
      "text/plain": [
       "0.9796469789551963"
      ]
     },
     "execution_count": 31,
     "metadata": {},
     "output_type": "execute_result"
    }
   ],
   "source": [
    "best.score(X_train, y_train)"
   ]
  },
  {
   "cell_type": "code",
   "execution_count": 32,
   "id": "3068a3e5",
   "metadata": {},
   "outputs": [
    {
     "name": "stdout",
     "output_type": "stream",
     "text": [
      "Test score: 0.9660454457022274\n",
      "Test score: 0.7261724017454386\n"
     ]
    }
   ],
   "source": [
    "from sklearn.ensemble import RandomForestRegressor\n",
    "rfr = RandomForestRegressor()\n",
    "rfr.fit(X_train, y_train)\n",
    "print(f\"Test score: {rfr.score(X_train, y_train)}\")\n",
    "print(f\"Test score: {rfr.score(X_test, y_test)}\")"
   ]
  },
  {
   "cell_type": "code",
   "execution_count": 33,
   "id": "8ffac992",
   "metadata": {},
   "outputs": [
    {
     "data": {
      "text/plain": [
       "0.6633570613633385"
      ]
     },
     "execution_count": 33,
     "metadata": {},
     "output_type": "execute_result"
    }
   ],
   "source": [
    "rfr_grid = {\n",
    "    'bootstrap': [True],\n",
    "    'max_depth': [80, 90, 100, 110],\n",
    "    'max_features': [2, 3],\n",
    "    'min_samples_leaf': [3, 4, 5],\n",
    "    'min_samples_split': [8, 10, 12],\n",
    "    'n_estimators': [100, 200, 300, 1000]\n",
    "}\n",
    "search_rfr = GridSearchCV(rfr, param_grid = rfr_grid, cv = 3)\n",
    "search_rfr.fit(X_train, y_train)\n",
    "best_rfr = search_rfr.best_estimator_\n",
    "best_rfr.fit(X_train, y_train)\n",
    "best_rfr.score(X_test, y_test)"
   ]
  },
  {
   "cell_type": "code",
   "execution_count": 35,
   "id": "68d15125",
   "metadata": {},
   "outputs": [
    {
     "name": "stdout",
     "output_type": "stream",
     "text": [
      "Tuned Random Forest Results\n",
      "----------------------------\n",
      "Training R^2 Score: 0.85\n",
      "Testing R^2 Score: 0.66\n",
      "Training RMSE: 5.77\n",
      "Training RMSE: 8.81\n"
     ]
    }
   ],
   "source": [
    "from sklearn.metrics import mean_squared_error\n",
    "rfr_y_preds = best_rfr.predict(X_test)\n",
    "print('Tuned Random Forest Results')\n",
    "print('----------------------------')\n",
    "print(f\"Training R^2 Score: {round(best_rfr.score(X_train, y_train),2)}\")\n",
    "print(f\"Testing R^2 Score: {round(best_rfr.score(X_test, y_test),2)}\")\n",
    "print(f\"Training RMSE: {round(np.sqrt(mean_squared_error(y_train, best_rfr.predict(X_train))),2)}\")\n",
    "print(f\"Training RMSE: {round(np.sqrt(mean_squared_error(y_test, rfr_y_preds)),2)}\")"
   ]
  },
  {
   "cell_type": "code",
   "execution_count": 39,
   "id": "ee19b523",
   "metadata": {},
   "outputs": [
    {
     "data": {
      "text/plain": [
       "RandomForestRegressor(max_depth=90, max_features=3, min_samples_leaf=3,\n",
       "                      min_samples_split=8, n_estimators=300)"
      ]
     },
     "execution_count": 39,
     "metadata": {},
     "output_type": "execute_result"
    }
   ],
   "source": [
    "search_rfr.best_estimator_"
   ]
  },
  {
   "cell_type": "code",
   "execution_count": 42,
   "id": "e5ea7fd6",
   "metadata": {},
   "outputs": [
    {
     "name": "stdout",
     "output_type": "stream",
     "text": [
      "Tuned Gradient Boosting Results\n",
      "----------------------------\n",
      "Training R^2 Score: 0.98\n",
      "Testing R^2 Score: 0.71\n",
      "Training RMSE: 2.16\n",
      "Training RMSE: 8.16\n"
     ]
    }
   ],
   "source": [
    "from sklearn.metrics import mean_squared_error\n",
    "y_preds = best.predict(X_test)\n",
    "print('Tuned Gradient Boosting Results')\n",
    "print('----------------------------')\n",
    "print(f\"Training R^2 Score: {round(best.score(X_train, y_train),2)}\")\n",
    "print(f\"Testing R^2 Score: {round(best.score(X_test, y_test),2)}\")\n",
    "print(f\"Training RMSE: {round(np.sqrt(mean_squared_error(y_train, best.predict(X_train))),2)}\")\n",
    "print(f\"Training RMSE: {round(np.sqrt(mean_squared_error(y_test, y_preds)),2)}\")"
   ]
  },
  {
   "cell_type": "code",
   "execution_count": 45,
   "id": "f1ead2d4",
   "metadata": {},
   "outputs": [
    {
     "data": {
      "text/plain": [
       "GradientBoostingRegressor(learning_rate=0.31, max_depth=4, n_estimators=90)"
      ]
     },
     "execution_count": 45,
     "metadata": {},
     "output_type": "execute_result"
    }
   ],
   "source": [
    "search.best_estimator_"
   ]
  },
  {
   "cell_type": "code",
   "execution_count": 43,
   "id": "7e1d7568",
   "metadata": {},
   "outputs": [
    {
     "name": "stderr",
     "output_type": "stream",
     "text": [
      "/usr/local/lib/python3.9/site-packages/seaborn/_decorators.py:36: FutureWarning: Pass the following variables as keyword args: x, y. From version 0.12, the only valid positional argument will be `data`, and passing other arguments without an explicit keyword will result in an error or misinterpretation.\n",
      "  warnings.warn(\n"
     ]
    },
    {
     "data": {
      "text/plain": [
       "<AxesSubplot:ylabel='Short-Idle Power (Watts)'>"
      ]
     },
     "execution_count": 43,
     "metadata": {},
     "output_type": "execute_result"
    },
    {
     "data": {
      "image/png": "[encoded data removed]",
      "text/plain": [
       "<Figure size 432x288 with 1 Axes>"
      ]
     },
     "metadata": {
      "needs_background": "light"
     },
     "output_type": "display_data"
    }
   ],
   "source": [
    "sns.scatterplot(rfr_y_preds, y_test)"
   ]
  },
  {
   "cell_type": "code",
   "execution_count": 44,
   "id": "4f9efccb",
   "metadata": {},
   "outputs": [
    {
     "name": "stderr",
     "output_type": "stream",
     "text": [
      "/usr/local/lib/python3.9/site-packages/seaborn/_decorators.py:36: FutureWarning: Pass the following variables as keyword args: x, y. From version 0.12, the only valid positional argument will be `data`, and passing other arguments without an explicit keyword will result in an error or misinterpretation.\n",
      "  warnings.warn(\n"
     ]
    },
    {
     "data": {
      "text/plain": [
       "<AxesSubplot:ylabel='Short-Idle Power (Watts)'>"
      ]
     },
     "execution_count": 44,
     "metadata": {},
     "output_type": "execute_result"
    },
    {
     "data": {
      "image/png": "[encoded data removed]",
      "text/plain": [
       "<Figure size 432x288 with 1 Axes>"
      ]
     },
     "metadata": {
      "needs_background": "light"
     },
     "output_type": "display_data"
    }
   ],
   "source": [
    "sns.scatterplot(y_preds, y_test)"
   ]
  },
  {
   "cell_type": "code",
   "execution_count": 329,
   "id": "167a2e4c",
   "metadata": {},
   "outputs": [
    {
     "data": {
      "image/png": "[encoded data removed]",
      "text/plain": [
       "<Figure size 792x576 with 1 Axes>"
      ]
     },
     "metadata": {
      "needs_background": "light"
     },
     "output_type": "display_data"
    }
   ],
   "source": [
    "importances = best.feature_importances_\n",
    "cols = pd.get_dummies(skytech_resampled.drop(columns = ['Short-Idle Power (Watts)'])).columns\n",
    "feature_importances = pd.Series(importances, index=cols).sort_values(ascending = False)\n",
    "\n",
    "fig, ax = plt.subplots()\n",
    "fig.set_figheight(8)\n",
    "fig.set_figwidth(11)\n",
    "feature_importances.plot.bar(ax=ax)\n",
    "ax.set_title(\"Feature importances using MDI\")\n",
    "ax.set_ylabel(\"Mean decrease in impurity\")\n",
    "fig.tight_layout()"
   ]
  },
  {
   "cell_type": "markdown",
   "id": "7790ed1b",
   "metadata": {},
   "source": [
    "## Simplified model"
   ]
  },
  {
   "cell_type": "code",
   "execution_count": 102,
   "id": "04d11886",
   "metadata": {},
   "outputs": [
    {
     "name": "stdout",
     "output_type": "stream",
     "text": [
      "Simple model's training R^2: 0.86\n",
      "Simple model's test R^2: 0.81\n"
     ]
    }
   ],
   "source": [
    "scaler = MinMaxScaler()\n",
    "X = scaler.fit_transform(pd.get_dummies(\n",
    "    skytech_resampled[\n",
    "        ['Expandability Score', 'GPU Bandwidth', 'PSU Size (Watts)', 'Chipset']\n",
    "    ]))\n",
    "y = skytech_resampled['Short-Idle Power (Watts)']\n",
    "X_train, X_test, y_train, y_test = train_test_split(X, y, test_size = .3)\n",
    "grad = GradientBoostingRegressor().fit(X_train, y_train)\n",
    "print(f\"Simple model's training R^2: {round(grad.score(X_train, y_train), 2)}\")\n",
    "print(f\"Simple model's test R^2: {round(grad.score(X_test, y_test), 2)}\")"
   ]
  }
 ],
 "metadata": {
  "kernelspec": {
   "display_name": "Python 3",
   "language": "python",
   "name": "python3"
  },
  "language_info": {
   "codemirror_mode": {
    "name": "ipython",
    "version": 3
   },
   "file_extension": ".py",
   "mimetype": "text/x-python",
   "name": "python",
   "nbconvert_exporter": "python",
   "pygments_lexer": "ipython3",
   "version": "3.9.5"
  }
 },
 "nbformat": 4,
 "nbformat_minor": 5
}
